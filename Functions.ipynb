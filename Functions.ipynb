{
 "cells": [
  {
   "cell_type": "code",
   "execution_count": 1,
   "metadata": {
    "colab": {
     "base_uri": "https://localhost:8080/"
    },
    "id": "PFUf1AmcS4-a",
    "outputId": "cb6c5014-e593-4bb6-ff25-2b0de7393f6f"
   },
   "outputs": [
    {
     "name": "stdout",
     "output_type": "stream",
     "text": [
      "Enter a Number9\n",
      "9 X 1 = 9\n",
      "9 X 2 = 18\n",
      "9 X 3 = 27\n",
      "9 X 4 = 36\n",
      "9 X 5 = 45\n",
      "9 X 6 = 54\n",
      "9 X 7 = 63\n",
      "9 X 8 = 72\n",
      "9 X 9 = 81\n",
      "9 X 10 = 90\n"
     ]
    }
   ],
   "source": [
    "#1.Write a function that inputs a number and prints the multiplication table of that number\n",
    "\n",
    "num=int(input(\"Enter a Number\"))\n",
    "\n",
    "def mul_table(a):\n",
    "  for i in range(1,11):\n",
    "    print(\"{0} X {1} = {2}\".format(a,i,(a*i)))\n",
    "\n",
    "mul_table(num)"
   ]
  },
  {
   "cell_type": "code",
   "execution_count": 2,
   "metadata": {
    "colab": {
     "base_uri": "https://localhost:8080/"
    },
    "id": "TyClSDrtQ_lf",
    "outputId": "3acd6034-3aea-4e26-c437-fcce9bd4d896"
   },
   "outputs": [
    {
     "name": "stdout",
     "output_type": "stream",
     "text": [
      "Twin Primes are...\n",
      "3 and 5\n",
      "5 and 7\n",
      "11 and 13\n",
      "17 and 19\n",
      "29 and 31\n",
      "41 and 43\n",
      "59 and 61\n",
      "71 and 73\n",
      "101 and 103\n",
      "107 and 109\n",
      "137 and 139\n",
      "149 and 151\n",
      "179 and 181\n",
      "191 and 193\n",
      "197 and 199\n",
      "227 and 229\n",
      "239 and 241\n",
      "269 and 271\n",
      "281 and 283\n",
      "311 and 313\n",
      "347 and 349\n",
      "419 and 421\n",
      "431 and 433\n",
      "461 and 463\n",
      "521 and 523\n",
      "569 and 571\n",
      "599 and 601\n",
      "617 and 619\n",
      "641 and 643\n",
      "659 and 661\n",
      "809 and 811\n",
      "821 and 823\n",
      "827 and 829\n",
      "857 and 859\n",
      "881 and 883\n"
     ]
    }
   ],
   "source": [
    "'''2.Write a program to print twin primes less than 1000. If two consecutive odd numbers are\n",
    "both prime then they are known as twin primes'''\n",
    "def is_prime(a):\n",
    "    for i in range(2,a):\n",
    "      if a%i==0:\n",
    "        return False \n",
    "    else:\n",
    "      return True\n",
    "def twin_prime(start,end):\n",
    "  print(\"Twin Primes are...\")\n",
    "  for i in range(start,end):\n",
    "    j=i+2\n",
    "    if (is_prime(i) and is_prime(j)):\n",
    "      print(\"{0} and {1}\".format(i,j))\n",
    "\n",
    "twin_prime(2,1000)\n"
   ]
  },
  {
   "cell_type": "code",
   "execution_count": null,
   "metadata": {
    "colab": {
     "base_uri": "https://localhost:8080/"
    },
    "id": "IeqGsPRJ_YWq",
    "outputId": "8b045c9d-703a-45f7-9ada-bc0af6bcf490"
   },
   "outputs": [
    {
     "name": "stdout",
     "output_type": "stream",
     "text": [
      "Enter a Number15\n",
      "3\n",
      "5.0\n"
     ]
    }
   ],
   "source": [
    "'''3.Write a program to find out the prime factors of a number. Example: prime factors of 56 -\n",
    "2, 2, 2, 7'''\n",
    "import math as m\n",
    "num=int(input(\"Enter a Number\"))\n",
    "\n",
    "def pri_fact(a):\n",
    "\n",
    "  while(a%2==0):\n",
    "    print(2)\n",
    "    a=a/2\n",
    "  \n",
    "  for i in range(3,int(m.sqrt(a))+1,2):\n",
    "    \n",
    "    while(a%i==0):\n",
    "      print(i)\n",
    "      a=a/i\n",
    "    \n",
    "  if a>2:\n",
    "    print(a)\n",
    "\n",
    "pri_fact(num)"
   ]
  },
  {
   "cell_type": "code",
   "execution_count": null,
   "metadata": {
    "colab": {
     "base_uri": "https://localhost:8080/"
    },
    "id": "iytEToXSg6fI",
    "outputId": "4a2f2774-8a50-447d-f085-8f3708029081"
   },
   "outputs": [
    {
     "name": "stdout",
     "output_type": "stream",
     "text": [
      "Enter the value of 'n' and 'r' 2,1\n",
      "2C1 is 2.0\n",
      "2P1 is 2.0\n"
     ]
    }
   ],
   "source": [
    "'''4.Write a program to implement these formulae of permutations and combinations.\n",
    "Number of permutations of n objects taken r at a time: p(n, r) = n! / (n-r)!. Number of\n",
    "combinations of n objects taken r at a time is: c(n, r) = n! / (r!*(n-r)!) = p(n,r) / r!'''\n",
    "\n",
    "n,r = [eval (x) for x in input(\"Enter the value of 'n' and 'r' \").split(\",\")]\n",
    "\n",
    "def facto(a):\n",
    "  return 1 if a==1 else (a*facto(a-1))\n",
    "\n",
    "def p(n,r):\n",
    "  return (facto(n)/facto(n-r))\n",
    "\n",
    "def c(n,r):\n",
    "  return (facto(n)/(facto(r)*facto(n-r)))\n",
    "\n",
    "print(\"{0}C{1} is {2}\".format(n,r,c(n,r)))\n",
    "print(\"{0}P{1} is {2}\".format(n,r,p(n,r)))\n",
    "\n",
    "\n"
   ]
  },
  {
   "cell_type": "code",
   "execution_count": 6,
   "metadata": {
    "colab": {
     "base_uri": "https://localhost:8080/"
    },
    "id": "sqVEQykv_FoD",
    "outputId": "4a1e0ad6-dcf5-4a1e-87cb-e3a1dc7212a2"
   },
   "outputs": [
    {
     "name": "stdout",
     "output_type": "stream",
     "text": [
      "Enter a Number:256\n",
      "[1, 0, 0, 0, 0, 0, 0, 0, 0]\n"
     ]
    }
   ],
   "source": [
    "\n",
    "# 5.Write a function that converts a decimal number to binary number\n",
    "num= int(input(\"Enter a Number:\"))\n",
    "l=[]\n",
    "def dec_to_bin(a,l):\n",
    "  if a<=1:\n",
    "    l.append(a)\n",
    "  else:\n",
    "    dec_to_bin(a//2,l)\n",
    "    k=(a % 2)\n",
    "    l.append(k)\n",
    "\n",
    "dec_to_bin(num,l)\n",
    "print(l)"
   ]
  },
  {
   "cell_type": "code",
   "execution_count": null,
   "metadata": {
    "colab": {
     "base_uri": "https://localhost:8080/"
    },
    "id": "3wpvr4xlRqwD",
    "outputId": "69bf1e46-a102-4661-8001-c88ee32c08e9"
   },
   "outputs": [
    {
     "name": "stdout",
     "output_type": "stream",
     "text": [
      "Enter a Number123\n",
      "123 is not Armstrong Number\n"
     ]
    }
   ],
   "source": [
    "''' 6.Write a function cubesum() that accepts an integer and returns the sum of the cubes of \n",
    "individual digits of that number. Use this function to make functions PrintArmstrong() and \n",
    "isArmstrong() to print Armstrong numbers and to find whether is an Armstrong number.'''\n",
    "num=int(input(\"Enter a Number\"))\n",
    "def cubesum(num):\n",
    "  n=0\n",
    "  while(num!=0):\n",
    "    k=(num%10)**3\n",
    "    n=n+k\n",
    "    num=num//10\n",
    "  return n\n",
    "\n",
    "\n",
    "def isArmstrong(n,num):\n",
    "  if num==n:\n",
    "    return True\n",
    "  else :\n",
    "    return False\n",
    "\n",
    "def PrintArmstrong(num):\n",
    "  n=cubesum(num)\n",
    "  if isArmstrong(n,num):\n",
    "    print(\"{} is Armstrong Number\".format(num))\n",
    "  else:\n",
    "    print(\"{} is not Armstrong Number\".format(num))\n",
    "  \n",
    "PrintArmstrong(num)"
   ]
  },
  {
   "cell_type": "code",
   "execution_count": 9,
   "metadata": {
    "colab": {
     "base_uri": "https://localhost:8080/"
    },
    "id": "MmygReeIR7kI",
    "outputId": "337d990d-7251-46ce-afd9-0ef039ee10aa"
   },
   "outputs": [
    {
     "name": "stdout",
     "output_type": "stream",
     "text": [
      "Enter a Number45\n",
      "20\n"
     ]
    }
   ],
   "source": [
    "''' 7.Write a function prodDigits() that inputs a number and returns the product of digits of that \n",
    "number'''\n",
    "num=int(input(\"Enter a Number\"))\n",
    "def prodDigits(num):\n",
    "  n=1\n",
    "  while(num!=0):\n",
    "    k=num%10\n",
    "    n=n*k\n",
    "    num=num//10\n",
    "  return n\n",
    "print(prodDigits(num))"
   ]
  },
  {
   "cell_type": "code",
   "execution_count": 14,
   "metadata": {
    "colab": {
     "base_uri": "https://localhost:8080/"
    },
    "id": "i14AJ9rFR8oi",
    "outputId": "e920a2ca-e1b2-401d-a026-0d1e3cf5eb94"
   },
   "outputs": [
    {
     "name": "stdout",
     "output_type": "stream",
     "text": [
      "Enter a Number89\n",
      "MDR is 4 and MPersistence is 3.\n"
     ]
    }
   ],
   "source": [
    "''' 8.If all digits of a number n are multiplied by each other repeating with the product, the one \n",
    "digit number obtained at last is called the multiplicative digital root of n. The number of \n",
    "times digits need to be multiplied to reach one digit is called the multiplicative \n",
    "persistance of n. \n",
    "         Example: 86 -> 48 -> 32 -> 6 (MDR 6, MPersistence 3)\n",
    "                  341 -> 12->2 (MDR 2, MPersistence 2)\n",
    "Using the function prodDigits() of previous exercise write functions MDR() and \n",
    "MPersistence() that input a number and return its multiplicative digital root and \n",
    "multiplicative persistence respectively'''\n",
    "num=int(input(\"Enter a Number\"))\n",
    "def MDR(num):\n",
    "  mdr=num\n",
    "  while(mdr>9):\n",
    "    mdr=prodDigits(mdr)\n",
    "  return mdr\n",
    "\n",
    "def MPersistence(num):\n",
    "  c=0\n",
    "  while(num>9):\n",
    "    num=prodDigits(num)\n",
    "    c=c+1\n",
    "  return c\n",
    "\n",
    "mdr=MDR(num)\n",
    "mpersistence=MPersistence(num)\n",
    "print(\"MDR is {} and MPersistence is {}.\".format(mdr,mpersistence))\n",
    "    \n"
   ]
  },
  {
   "cell_type": "code",
   "execution_count": null,
   "metadata": {
    "colab": {
     "base_uri": "https://localhost:8080/"
    },
    "id": "X6JgIS3ER8Zw",
    "outputId": "f8682e58-dc7e-43dc-c1a4-1acfc8cbfdc9"
   },
   "outputs": [
    {
     "name": "stdout",
     "output_type": "stream",
     "text": [
      "Enter a Number28\n",
      "28.0\n"
     ]
    }
   ],
   "source": [
    "'''9.Write a function sumPdivisors() that finds the sum of proper divisors of a number. Proper \n",
    "divisors of a number are those numbers by which the number is divisible, except the \n",
    "number itself. For example proper divisors of 36 are 1, 2, 3, 4, 6, 9, 18'''\n",
    "\n",
    "import math as m\n",
    "num=int(input(\"Enter a Number\"))\n",
    "def sumPdivisors(num):\n",
    "  sum=1\n",
    "  i=2\n",
    "  while(i<=m.sqrt(num)):\n",
    "    if num%i==0:\n",
    "      if num/i==i:\n",
    "        sum=sum+i\n",
    "      else:\n",
    "        sum=sum+(i+num/i)\n",
    "    i=i+1\n",
    "  \n",
    "  return sum\n",
    "\n",
    "print(sumPdivisors(num))\n"
   ]
  },
  {
   "cell_type": "code",
   "execution_count": null,
   "metadata": {
    "colab": {
     "base_uri": "https://localhost:8080/"
    },
    "id": "s2zsxDXcR8ND",
    "outputId": "a6598329-be7d-412b-f27b-28629b1602e9"
   },
   "outputs": [
    {
     "name": "stdout",
     "output_type": "stream",
     "text": [
      "Enter a number28\n",
      "1 is a perfect numbers\n",
      "6 is a perfect numbers\n",
      "28 is a perfect numbers\n"
     ]
    }
   ],
   "source": [
    "''' 10.A number is called perfect if the sum of proper divisors of that number is equal to the \n",
    "number.\n",
    "      For example 28 is perfect number, since 1+2+4+7+14=28.\n",
    " Write a program to print all the perfect numbers in a given range'''\n",
    "\n",
    "\n",
    "num=int(input(\"Enter a number\"))\n",
    "for i in range(1,num+1):\n",
    "\n",
    "  num_2=sumPdivisors(i)\n",
    "  if i==num_2:\n",
    "    print(\"{} is a perfect numbers\".format(i))\n",
    "    \n"
   ]
  },
  {
   "cell_type": "code",
   "execution_count": null,
   "metadata": {
    "colab": {
     "background_save": true,
     "base_uri": "https://localhost:8080/"
    },
    "id": "DnaQJiLeRqtb",
    "outputId": "83d2855f-e4e4-4d2b-c662-c1988f738e86"
   },
   "outputs": [
    {
     "name": "stdout",
     "output_type": "stream",
     "text": [
      "The Amiciable Numbers are ...\n",
      "220 and 284\n",
      "1184 and 1210\n",
      "2620 and 2924\n",
      "5020 and 5564\n",
      "6232 and 6368\n",
      "10744 and 10856\n",
      "12285 and 14595\n",
      "17296 and 18416\n"
     ]
    }
   ],
   "source": [
    "''' 11.Two different numbers are called amicable numbers if the sum of the proper divisors of \n",
    "each is equal to the other number. For example 220 and 284 are amicable numbers.\n",
    "Sum of proper divisors of 220 = 1+2+4+5+10+11+20+22+44+55+110 = 284\n",
    "Sum of proper divisors of 284 = 1+2+4+71+142 = 220\n",
    "Write a function to print pairs of amicable numbers in a range'''\n",
    "def amiciable(a,b):\n",
    "  if sumPdivisors(a)==b and sumPdivisors(b)==a and a!=b:\n",
    "    return True\n",
    "  else:\n",
    "    return False\n",
    "\n",
    "import math as m\n",
    "def sumPdivisors(num):\n",
    "  sum=1\n",
    "  i=2\n",
    "  while(i<=m.sqrt(num)):\n",
    "    if num%i==0:\n",
    "      if num/i==i:\n",
    "        sum=sum+i\n",
    "      else:\n",
    "        sum=sum+(i+num/i)\n",
    "    i=i+1\n",
    "  \n",
    "  return sum\n",
    "\n",
    "n=int(input(\"Enter a range\"))\n",
    "l=[]\n",
    "print(\"The Amiciable Numbers are ...\")\n",
    "for i in range(1,n+1):\n",
    "  for j in range(i+1,n+1):\n",
    "    if amiciable(i,j):\n",
    "      print(\"{} and {}\".format(i,j)) \n"
   ]
  },
  {
   "cell_type": "code",
   "execution_count": null,
   "metadata": {
    "colab": {
     "base_uri": "https://localhost:8080/"
    },
    "id": "Z3XXzCtNSJsK",
    "outputId": "8174734c-31a6-490f-e517-ccff09a8dd30"
   },
   "outputs": [
    {
     "name": "stdout",
     "output_type": "stream",
     "text": [
      "[3, 5, 7, 9, 19, 13, 15]\n"
     ]
    }
   ],
   "source": [
    "# 12.Write a program which can filter odd numbers in a list by using filter function\n",
    "l=[12,3,5,6,7,8,9,19,13,14,15]\n",
    "odd=list(filter(lambda x: x%2!=0,l))\n",
    "print(odd)"
   ]
  },
  {
   "cell_type": "code",
   "execution_count": null,
   "metadata": {
    "colab": {
     "base_uri": "https://localhost:8080/"
    },
    "id": "tB2QRXk6SJjj",
    "outputId": "28c0541c-979d-42c3-d760-66ffaef77b42"
   },
   "outputs": [
    {
     "name": "stdout",
     "output_type": "stream",
     "text": [
      "[1, 27, 8, 125, 216, 343]\n"
     ]
    }
   ],
   "source": [
    "''' 13.Write a program which can map() to make a list whose elements are cube of elements in \n",
    "a given list.'''\n",
    "l=[1,3,2,5,6,7]\n",
    "cube=list(map(lambda x:x**3,l))\n",
    "print(cube)\n"
   ]
  },
  {
   "cell_type": "code",
   "execution_count": null,
   "metadata": {
    "colab": {
     "base_uri": "https://localhost:8080/"
    },
    "id": "lhJQkU4cSJaL",
    "outputId": "240f7aae-5836-4090-835c-27a27c7d3fee"
   },
   "outputs": [
    {
     "name": "stdout",
     "output_type": "stream",
     "text": [
      "[8, 64, 216, 1000, 13824]\n"
     ]
    }
   ],
   "source": [
    "''' 14.Write a program which can map() and filter() to make a list whose elements are cube of \n",
    "even number in a given list'''\n",
    "l=[1,2,4,5,6,7,9,10,11,23,24]\n",
    "even=list(filter(lambda x:x%2==0,l))\n",
    "final=list(map(lambda x:x**3,even))\n",
    "print(final)"
   ]
  }
 ],
 "metadata": {
  "accelerator": "GPU",
  "colab": {
   "name": "Practice_Questions_On_Functions.ipynb",
   "provenance": []
  },
  "kernelspec": {
   "display_name": "Python 3",
   "language": "python",
   "name": "python3"
  },
  "language_info": {
   "codemirror_mode": {
    "name": "ipython",
    "version": 3
   },
   "file_extension": ".py",
   "mimetype": "text/x-python",
   "name": "python",
   "nbconvert_exporter": "python",
   "pygments_lexer": "ipython3",
   "version": "3.7.6"
  }
 },
 "nbformat": 4,
 "nbformat_minor": 1
}
